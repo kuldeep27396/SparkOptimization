{
  "cells": [
    {
      "cell_type": "markdown",
      "metadata": {
        "id": "view-in-github",
        "colab_type": "text"
      },
      "source": [
        "<a href=\"https://colab.research.google.com/github/kuldeep27396/SparkOptimization/blob/main/optimization_google_colab_part2.ipynb\" target=\"_parent\"><img src=\"https://colab.research.google.com/assets/colab-badge.svg\" alt=\"Open In Colab\"/></a>"
      ]
    },
    {
      "cell_type": "code",
      "execution_count": null,
      "id": "264ee9f0",
      "metadata": {
        "id": "264ee9f0"
      },
      "outputs": [],
      "source": [
        "#install pyspark library\n",
        "!pip install pyspark"
      ]
    },
    {
      "cell_type": "code",
      "execution_count": null,
      "id": "ac8c9f86",
      "metadata": {
        "id": "ac8c9f86"
      },
      "outputs": [],
      "source": [
        "#import pyspark\n",
        "import pyspark"
      ]
    },
    {
      "cell_type": "code",
      "execution_count": null,
      "id": "744ed739",
      "metadata": {
        "id": "744ed739"
      },
      "outputs": [],
      "source": [
        "#import sparksession \n",
        "from pyspark.sql import SparkSession"
      ]
    },
    {
      "cell_type": "code",
      "execution_count": null,
      "id": "f77ee90b",
      "metadata": {
        "id": "f77ee90b"
      },
      "outputs": [],
      "source": [
        "#creating a sparksession object and providing appName \n",
        "spark=SparkSession.builder.appName(\"optimization\").getOrCreate()"
      ]
    },
    {
      "cell_type": "code",
      "execution_count": null,
      "id": "05086a3b",
      "metadata": {
        "id": "05086a3b"
      },
      "outputs": [],
      "source": [
        "#To create dataframe form External datasets\n",
        "AirlineDF = spark.read.option(\"header\", \"true\").csv(\"/Users/krishnapratap/Desktop/partation/data/*\")"
      ]
    },
    {
      "cell_type": "markdown",
      "id": "2ddc4893",
      "metadata": {
        "id": "2ddc4893"
      },
      "source": [
        "# use take() in place of collect() for reduce time\n"
      ]
    },
    {
      "cell_type": "code",
      "execution_count": null,
      "id": "73bd2d67",
      "metadata": {
        "id": "73bd2d67"
      },
      "outputs": [],
      "source": [
        "%time AirlineDF.take(5)"
      ]
    },
    {
      "cell_type": "code",
      "execution_count": null,
      "id": "576cfd7f",
      "metadata": {
        "id": "576cfd7f"
      },
      "outputs": [],
      "source": [
        "%time AirlineDF.show(5)"
      ]
    },
    {
      "cell_type": "code",
      "execution_count": null,
      "id": "0d4a12c8",
      "metadata": {
        "id": "0d4a12c8"
      },
      "outputs": [],
      "source": [
        "# calculate total no. of flight by Unique Carriers\n",
        "%time AirlineDF.select(\"UniqueCarrier\").groupby(\"UniqueCarrier\").count().show()"
      ]
    },
    {
      "cell_type": "code",
      "execution_count": null,
      "id": "e0d269f2",
      "metadata": {
        "id": "e0d269f2"
      },
      "outputs": [],
      "source": [
        "AirlineDF.registerTempTable(\"AirlineTable\")"
      ]
    },
    {
      "cell_type": "code",
      "execution_count": null,
      "id": "25849dc6",
      "metadata": {
        "id": "25849dc6"
      },
      "outputs": [],
      "source": [
        "#how to see all columns with datatype\n",
        "spark.sql(\"describe AirlineTable\").show()"
      ]
    },
    {
      "cell_type": "code",
      "execution_count": null,
      "id": "bddcad69",
      "metadata": {
        "id": "bddcad69"
      },
      "outputs": [],
      "source": [
        "# calculate total no. of flight by Unique Carriers\n",
        "%time spark.sql(\"select UniqueCarrier,count(UniqueCarrier) from AirlineTable group by UniqueCarrier\").show()"
      ]
    },
    {
      "cell_type": "code",
      "execution_count": null,
      "id": "6ac7157d",
      "metadata": {
        "id": "6ac7157d"
      },
      "outputs": [],
      "source": [
        "#calculate total columns in dataframe\n",
        "len(AirlineDF.columns)"
      ]
    },
    {
      "cell_type": "markdown",
      "id": "acc9dd70",
      "metadata": {
        "id": "acc9dd70"
      },
      "source": [
        "# Follow process for optimization\n",
        "\n",
        "# When data is huge otherwise not"
      ]
    },
    {
      "cell_type": "markdown",
      "id": "8a6bc85a",
      "metadata": {
        "id": "8a6bc85a"
      },
      "source": [
        "# use coalesce() in place of repartition() to reduce the no. of partition "
      ]
    },
    {
      "cell_type": "markdown",
      "id": "7c44a11d",
      "metadata": {
        "id": "7c44a11d"
      },
      "source": [
        "# Process:- 1 reduce no. of partition"
      ]
    },
    {
      "cell_type": "code",
      "execution_count": null,
      "id": "28db6356",
      "metadata": {
        "id": "28db6356"
      },
      "outputs": [],
      "source": [
        "#to check how many partation in current AirlineDF dataframe\n",
        "AirlineDF.rdd.getNumPartitions()"
      ]
    },
    {
      "cell_type": "code",
      "execution_count": null,
      "id": "36c6c987",
      "metadata": {
        "id": "36c6c987"
      },
      "outputs": [],
      "source": [
        "#Not Use repartition for reduce no. of partation\n",
        "#AirlineDF1 = AirlineDF.repartition(2)"
      ]
    },
    {
      "cell_type": "code",
      "execution_count": null,
      "id": "4be2d6fc",
      "metadata": {
        "id": "4be2d6fc"
      },
      "outputs": [],
      "source": [
        "#Reduce No. of partation from 22 to 4\n",
        "AirlineDF1 = AirlineDF.coalesce(4)"
      ]
    },
    {
      "cell_type": "code",
      "execution_count": null,
      "id": "bab78022",
      "metadata": {
        "id": "bab78022"
      },
      "outputs": [],
      "source": [
        "AirlineDF1.rdd.getNumPartitions()"
      ]
    },
    {
      "cell_type": "code",
      "execution_count": null,
      "id": "eb986808",
      "metadata": {
        "id": "eb986808"
      },
      "outputs": [],
      "source": [
        "#Again Check processing time\n",
        "# calculate total no. of flight by Unique Carriers\n",
        "%time AirlineDF1.select(\"UniqueCarrier\").groupby(\"UniqueCarrier\").count().show()"
      ]
    },
    {
      "cell_type": "code",
      "execution_count": null,
      "id": "30c1a301",
      "metadata": {
        "id": "30c1a301"
      },
      "outputs": [],
      "source": [
        "AirlineDF1.registerTempTable(\"AirlineTable1\")"
      ]
    },
    {
      "cell_type": "code",
      "execution_count": null,
      "id": "2e01d769",
      "metadata": {
        "id": "2e01d769"
      },
      "outputs": [],
      "source": [
        "# calculate total no. of flight by Unique Carriers\n",
        "%time spark.sql(\"select UniqueCarrier,count(UniqueCarrier) from AirlineTable1 group by UniqueCarrier\").show()"
      ]
    },
    {
      "cell_type": "markdown",
      "id": "41613a36",
      "metadata": {
        "id": "41613a36"
      },
      "source": [
        "# Apache Parquet is a columnar file format that provides optimizations to speed up queries and is a far more efficient file format than CSV or JSON, supported by many data processing systems."
      ]
    },
    {
      "cell_type": "markdown",
      "id": "8fe8379b",
      "metadata": {
        "id": "8fe8379b"
      },
      "source": [
        "# Process:- 2 write parquet file and create new dataframe for parquet file"
      ]
    },
    {
      "cell_type": "code",
      "execution_count": null,
      "id": "16ec5a8f",
      "metadata": {
        "id": "16ec5a8f"
      },
      "outputs": [],
      "source": [
        "# first write dataframe into parquet file\n",
        "AirlineDF1.write.parquet(\"parquet/\")"
      ]
    },
    {
      "cell_type": "code",
      "execution_count": null,
      "id": "b4aa0e41",
      "metadata": {
        "id": "b4aa0e41"
      },
      "outputs": [],
      "source": [
        "# Now create new dataframe from parquet file\n",
        "AirlineDF_Par = spark.read.parquet(\"parquet/*\")"
      ]
    },
    {
      "cell_type": "code",
      "execution_count": null,
      "id": "cb80ed43",
      "metadata": {
        "id": "cb80ed43"
      },
      "outputs": [],
      "source": [
        "AirlineDF_Par.take(5)"
      ]
    },
    {
      "cell_type": "code",
      "execution_count": null,
      "id": "e0699132",
      "metadata": {
        "id": "e0699132"
      },
      "outputs": [],
      "source": [
        "#Again Check processing time created dataframe from parquet file\n",
        "# calculate total no. of flight by Unique Carriers\n",
        "%time AirlineDF_Par.select(\"UniqueCarrier\").groupby(\"UniqueCarrier\").count().show()"
      ]
    },
    {
      "cell_type": "code",
      "execution_count": null,
      "id": "7284a3f4",
      "metadata": {
        "id": "7284a3f4"
      },
      "outputs": [],
      "source": [
        "AirlineDF_Par.registerTempTable(\"AirlineTable2\")"
      ]
    },
    {
      "cell_type": "code",
      "execution_count": null,
      "id": "057c4d85",
      "metadata": {
        "id": "057c4d85"
      },
      "outputs": [],
      "source": [
        "# calculate total no. of flight by Unique Carriers\n",
        "%time spark.sql(\"select UniqueCarrier,count(UniqueCarrier) from AirlineTable2 group by UniqueCarrier\").show()"
      ]
    },
    {
      "cell_type": "code",
      "execution_count": null,
      "id": "fa23db00",
      "metadata": {
        "id": "fa23db00"
      },
      "outputs": [],
      "source": [
        "%time spark.sql(\"select rtrim(DestCityName) from AirlineTable2\").show()"
      ]
    },
    {
      "cell_type": "code",
      "execution_count": null,
      "id": "a861eefa",
      "metadata": {
        "id": "a861eefa"
      },
      "outputs": [],
      "source": [
        "%time spark.sql(\"select substring_index(DestCityName, ',',1) as DestCityName from AirlineTable2\").show()"
      ]
    },
    {
      "cell_type": "markdown",
      "id": "c7a8b419",
      "metadata": {
        "id": "c7a8b419"
      },
      "source": [
        "# avoid PySpark UDF’s and use Spark SQL built-in functions as these functions provide optimization "
      ]
    },
    {
      "cell_type": "code",
      "execution_count": null,
      "id": "c3021112",
      "metadata": {
        "id": "c3021112"
      },
      "outputs": [],
      "source": [
        "Flight_Destination = AirlineDF.select(\"DestAirportID\", \"DestAirportSeqID\", \"Dest\", \n",
        "                                      \"DestCityName\",\"DestState\",\"DestStateName\")"
      ]
    },
    {
      "cell_type": "code",
      "execution_count": null,
      "id": "ee8b6b90",
      "metadata": {
        "id": "ee8b6b90"
      },
      "outputs": [],
      "source": [
        "Flight_Destination.show()"
      ]
    },
    {
      "cell_type": "code",
      "execution_count": null,
      "id": "0e043bc5",
      "metadata": {
        "id": "0e043bc5"
      },
      "outputs": [],
      "source": [
        "from pyspark.sql.functions import udf"
      ]
    },
    {
      "cell_type": "code",
      "execution_count": null,
      "id": "f8df9e40",
      "metadata": {
        "id": "f8df9e40"
      },
      "outputs": [],
      "source": [
        "from pyspark.sql.functions import col"
      ]
    },
    {
      "cell_type": "code",
      "execution_count": null,
      "id": "7d24c9f1",
      "metadata": {
        "id": "7d24c9f1"
      },
      "outputs": [],
      "source": [
        "def destination(str):\n",
        "    resStr=\"\"\n",
        "    arr = str.split(\",\")\n",
        "    for x in arr:\n",
        "       resStr= arr[0]\n",
        "    return resStr "
      ]
    },
    {
      "cell_type": "code",
      "execution_count": null,
      "id": "16a4e1d1",
      "metadata": {
        "id": "16a4e1d1"
      },
      "outputs": [],
      "source": [
        "#Converting python function to UDF\n",
        "destinationUDF = udf(lambda z: destination(z))"
      ]
    },
    {
      "cell_type": "code",
      "execution_count": null,
      "id": "25cdb4b3",
      "metadata": {
        "id": "25cdb4b3"
      },
      "outputs": [],
      "source": [
        "#before udf apply\n",
        "Flight_Destination.select(\"Dest\",\"DestCityName\").show()"
      ]
    },
    {
      "cell_type": "code",
      "execution_count": null,
      "id": "a4536933",
      "metadata": {
        "id": "a4536933"
      },
      "outputs": [],
      "source": [
        "#when udf apply\n",
        "%time Flight_Destination.select(col(\"Dest\"),destinationUDF(col(\"DestCityName\")).alias(\"DestCityName\") ).show(truncate=False)"
      ]
    },
    {
      "cell_type": "markdown",
      "id": "364dbb95",
      "metadata": {
        "id": "364dbb95"
      },
      "source": [
        "# Avoid UDF use spark sql"
      ]
    },
    {
      "cell_type": "code",
      "execution_count": null,
      "id": "2b81563b",
      "metadata": {
        "id": "2b81563b"
      },
      "outputs": [],
      "source": [
        "Flight_Destination.registerTempTable(\"AirlineTable3\")"
      ]
    },
    {
      "cell_type": "code",
      "execution_count": null,
      "id": "9f5c63a3",
      "metadata": {
        "id": "9f5c63a3"
      },
      "outputs": [],
      "source": [
        "%time spark.sql(\"select Dest,substring_index(DestCityName, ',',1) as DestCityName from AirlineTable3\").show()"
      ]
    },
    {
      "cell_type": "markdown",
      "id": "a7ac1ba1",
      "metadata": {
        "id": "a7ac1ba1"
      },
      "source": [
        "# broadcast variables are used to save the copy of data across all nodes"
      ]
    },
    {
      "cell_type": "code",
      "execution_count": null,
      "id": "5c049d0c",
      "metadata": {
        "id": "5c049d0c"
      },
      "outputs": [],
      "source": [
        "from pyspark import SparkContext, broadcast\n",
        "from pyspark.sql import SparkSession \n",
        "import pyspark.sql.functions as func"
      ]
    },
    {
      "cell_type": "code",
      "execution_count": null,
      "id": "12739a76",
      "metadata": {
        "id": "12739a76"
      },
      "outputs": [],
      "source": [
        "sc = spark.sparkContext"
      ]
    },
    {
      "cell_type": "code",
      "execution_count": null,
      "id": "e63e7477",
      "metadata": {
        "id": "e63e7477"
      },
      "outputs": [],
      "source": [
        "words_new = sc.broadcast([\"AA\"]) "
      ]
    },
    {
      "cell_type": "code",
      "execution_count": null,
      "id": "ba81f3f8",
      "metadata": {
        "id": "ba81f3f8"
      },
      "outputs": [],
      "source": [
        "#call brodcast by using value\n",
        "data = words_new.value # accessing the value stored in the broadcast in master"
      ]
    },
    {
      "cell_type": "code",
      "execution_count": null,
      "id": "a701f8b5",
      "metadata": {
        "id": "a701f8b5"
      },
      "outputs": [],
      "source": [
        "data"
      ]
    },
    {
      "cell_type": "code",
      "execution_count": null,
      "id": "cf832158",
      "metadata": {
        "id": "cf832158"
      },
      "outputs": [],
      "source": [
        "%time AirlineDF_Par.select(\"Year\",\"UniqueCarrier\").show()"
      ]
    },
    {
      "cell_type": "code",
      "execution_count": null,
      "id": "7d65a463",
      "metadata": {
        "id": "7d65a463"
      },
      "outputs": [],
      "source": [
        "# without Broadcast variable on filter\n",
        "%time AirlineDF_Par.where((AirlineDF_Par['UniqueCarrier']).isin('AA')).count()"
      ]
    },
    {
      "cell_type": "code",
      "execution_count": null,
      "id": "c01fa944",
      "metadata": {
        "id": "c01fa944"
      },
      "outputs": [],
      "source": [
        "# Broadcast variable on filter\n",
        "%time AirlineDF_Par.where((AirlineDF_Par['UniqueCarrier']).isin(data)).count()"
      ]
    },
    {
      "cell_type": "markdown",
      "id": "7a7cd134",
      "metadata": {
        "id": "7a7cd134"
      },
      "source": [
        "#  accumulator variables are used for the information through associative and cummulative operations"
      ]
    },
    {
      "cell_type": "code",
      "execution_count": null,
      "id": "699018e2",
      "metadata": {
        "id": "699018e2"
      },
      "outputs": [],
      "source": [
        "#create sparkcontext\n",
        "from pyspark.context import SparkContext\n",
        "sc = SparkContext()"
      ]
    },
    {
      "cell_type": "code",
      "execution_count": null,
      "id": "254fbbb5",
      "metadata": {
        "id": "254fbbb5"
      },
      "outputs": [],
      "source": [
        "#creating a accumulator variable\n",
        "accum=sc.accumulator(0.5)"
      ]
    },
    {
      "cell_type": "code",
      "execution_count": null,
      "id": "d67cd531",
      "metadata": {
        "id": "d67cd531"
      },
      "outputs": [],
      "source": [
        "#empty variable\n",
        "accum.value"
      ]
    },
    {
      "cell_type": "code",
      "execution_count": null,
      "id": "73691d2c",
      "metadata": {
        "id": "73691d2c"
      },
      "outputs": [],
      "source": [
        "#create RDD\n",
        "RDD=sc.parallelize([10,20,30,40,50])"
      ]
    },
    {
      "cell_type": "code",
      "execution_count": null,
      "id": "64cba372",
      "metadata": {
        "id": "64cba372"
      },
      "outputs": [],
      "source": [
        "RDD.foreach(lambda x:accum.add(x))"
      ]
    },
    {
      "cell_type": "code",
      "execution_count": null,
      "id": "c2f19f2c",
      "metadata": {
        "id": "c2f19f2c"
      },
      "outputs": [],
      "source": [
        "accum.value"
      ]
    },
    {
      "cell_type": "code",
      "execution_count": null,
      "id": "83018f9b",
      "metadata": {
        "id": "83018f9b"
      },
      "outputs": [],
      "source": [
        "RDD.foreach(lambda x:accum.add(x))"
      ]
    },
    {
      "cell_type": "code",
      "execution_count": null,
      "id": "253802e3",
      "metadata": {
        "id": "253802e3"
      },
      "outputs": [],
      "source": [
        "accum.value"
      ]
    },
    {
      "cell_type": "markdown",
      "id": "01f4f4a4",
      "metadata": {
        "id": "01f4f4a4"
      },
      "source": [
        "# serialization in pyspark\n",
        "\n",
        "# Serialization is used for performance tuning on Apache Spark"
      ]
    },
    {
      "cell_type": "markdown",
      "id": "146493eb",
      "metadata": {
        "id": "146493eb"
      },
      "source": [
        "PySpark supports custom serializers for transferring data; this can improve\n",
        "performance.\n",
        "\n",
        "By default, PySpark uses L{PickleSerializer} to serialize objects using Python's\n",
        "C{cPickle} serializer, which can serialize nearly any Python object.\n",
        "Other serializers, like L{MarshalSerializer}, support fewer datatypes but can be\n",
        "faster.\n",
        "\n",
        "The serializer is chosen when creating L{SparkContext}:"
      ]
    },
    {
      "cell_type": "code",
      "execution_count": null,
      "id": "e6d5a507",
      "metadata": {
        "id": "e6d5a507"
      },
      "outputs": [],
      "source": [
        "spark.stop()"
      ]
    },
    {
      "cell_type": "code",
      "execution_count": null,
      "id": "1c9ab60f",
      "metadata": {
        "id": "1c9ab60f"
      },
      "outputs": [],
      "source": [
        "from pyspark.context import SparkContext\n",
        "from pyspark.serializers import MarshalSerializer\n",
        "sc = SparkContext(\"local\", \"serialization app\", batchSize=2, serializer = MarshalSerializer())"
      ]
    },
    {
      "cell_type": "code",
      "execution_count": null,
      "id": "0dfecbad",
      "metadata": {
        "id": "0dfecbad"
      },
      "outputs": [],
      "source": [
        "spark = SparkSession.builder.enableHiveSupport().getOrCreate()\n",
        "spark.sparkContext is sc"
      ]
    },
    {
      "cell_type": "code",
      "execution_count": null,
      "id": "cfc19918",
      "metadata": {
        "id": "cfc19918"
      },
      "outputs": [],
      "source": [
        "#To create dataframe form External datasets\n",
        "AirlineDF = spark.read.parquet(\"parquet/*\")"
      ]
    },
    {
      "cell_type": "code",
      "execution_count": null,
      "id": "5cc42f0d",
      "metadata": {
        "id": "5cc42f0d"
      },
      "outputs": [],
      "source": [
        "# calculate total no. of flight by Unique Carriers\n",
        "%time AirlineDF.select(\"UniqueCarrier\").groupby(\"UniqueCarrier\").count().show()"
      ]
    },
    {
      "cell_type": "code",
      "execution_count": null,
      "id": "b8937317",
      "metadata": {
        "id": "b8937317"
      },
      "outputs": [],
      "source": [
        "#check no. of partition\n",
        "AirlineDF.rdd.getNumPartitions()"
      ]
    },
    {
      "cell_type": "code",
      "execution_count": null,
      "id": "183bc2e4",
      "metadata": {
        "id": "183bc2e4"
      },
      "outputs": [],
      "source": [
        "spark.stop()"
      ]
    },
    {
      "cell_type": "code",
      "execution_count": null,
      "id": "4206ad47",
      "metadata": {
        "id": "4206ad47"
      },
      "outputs": [],
      "source": [
        "from pyspark.context import SparkContext\n",
        "from pyspark.serializers import PickleSerializer\n",
        "sc = SparkContext(\"local\", \"serialization app\", batchSize=2, serializer=PickleSerializer())"
      ]
    },
    {
      "cell_type": "code",
      "execution_count": null,
      "id": "d4f9a71c",
      "metadata": {
        "id": "d4f9a71c"
      },
      "outputs": [],
      "source": [
        "spark = SparkSession.builder.enableHiveSupport().getOrCreate()\n",
        "spark.sparkContext is sc"
      ]
    },
    {
      "cell_type": "code",
      "execution_count": null,
      "id": "94ffe7b7",
      "metadata": {
        "id": "94ffe7b7"
      },
      "outputs": [],
      "source": [
        "#To create dataframe form External datasets\n",
        "AirlineDF = spark.read.parquet(\"parquet/*\")"
      ]
    },
    {
      "cell_type": "code",
      "execution_count": null,
      "id": "2f91ffd7",
      "metadata": {
        "id": "2f91ffd7"
      },
      "outputs": [],
      "source": [
        "# calculate total no. of flight by Unique Carriers\n",
        "%time AirlineDF.select(\"UniqueCarrier\").groupby(\"UniqueCarrier\").count().show()"
      ]
    },
    {
      "cell_type": "code",
      "execution_count": null,
      "id": "52a053d2",
      "metadata": {
        "id": "52a053d2"
      },
      "outputs": [],
      "source": [
        "#check no. of partition\n",
        "AirlineDF.rdd.getNumPartitions()"
      ]
    },
    {
      "cell_type": "code",
      "execution_count": null,
      "id": "48a0d695",
      "metadata": {
        "id": "48a0d695"
      },
      "outputs": [],
      "source": []
    },
    {
      "cell_type": "markdown",
      "id": "7814d67b",
      "metadata": {
        "id": "7814d67b"
      },
      "source": [
        "# spark Parallelism\n",
        "\n",
        "spark.default.parallelism is the default number of partition set by spark which is by default 200. and if you want to increase the number of partition than you can apply the property\n",
        "\n",
        "\n",
        "One important way to increase parallelism of spark processing is to increase the number of executors on the cluster. However, knowing how the data should be distributed, so that the cluster can process data efficiently is extremely important. The secret to achieve this is partitioning in Spark."
      ]
    },
    {
      "cell_type": "markdown",
      "id": "fa5b6625",
      "metadata": {
        "id": "fa5b6625"
      },
      "source": [
        "# Note:- http://spark-configuration.luminousmen.com/"
      ]
    },
    {
      "cell_type": "markdown",
      "id": "593a738f",
      "metadata": {
        "id": "593a738f"
      },
      "source": [
        "# for RDD use spark.default.parallelism"
      ]
    },
    {
      "cell_type": "code",
      "execution_count": null,
      "id": "74245345",
      "metadata": {
        "id": "74245345"
      },
      "outputs": [],
      "source": [
        "#creating a sparksession object and providing appName \n",
        "spark0=SparkSession.builder.appName(\"optimization0\").getOrCreate()"
      ]
    },
    {
      "cell_type": "code",
      "execution_count": null,
      "id": "38afa140",
      "metadata": {
        "id": "38afa140"
      },
      "outputs": [],
      "source": [
        "spark0.conf.set(\"spark.default.parallelism\",1)"
      ]
    },
    {
      "cell_type": "code",
      "execution_count": null,
      "id": "c8ee7e34",
      "metadata": {
        "id": "c8ee7e34"
      },
      "outputs": [],
      "source": [
        "sc1 = spark0.sparkContext"
      ]
    },
    {
      "cell_type": "code",
      "execution_count": null,
      "id": "f28f34a7",
      "metadata": {
        "id": "f28f34a7"
      },
      "outputs": [],
      "source": [
        "rdd2=sc1.textFile(\"/Users/krishnapratap/Desktop/partation/data/*\")"
      ]
    },
    {
      "cell_type": "code",
      "execution_count": null,
      "id": "c96c1c8b",
      "metadata": {
        "id": "c96c1c8b"
      },
      "outputs": [],
      "source": [
        "sc1.defaultParallelism"
      ]
    },
    {
      "cell_type": "code",
      "execution_count": null,
      "id": "34015848",
      "metadata": {
        "id": "34015848"
      },
      "outputs": [],
      "source": [
        "# Split words using flatMap\n",
        "rdd_word1 = rdd2.flatMap(lambda x: x.split(\",\"))"
      ]
    },
    {
      "cell_type": "code",
      "execution_count": null,
      "id": "89d67822",
      "metadata": {
        "id": "89d67822"
      },
      "outputs": [],
      "source": [
        "# Create a paired-rdd\n",
        "rdd_pair1 = rdd_word1.map(lambda x: (x, 1))"
      ]
    },
    {
      "cell_type": "code",
      "execution_count": null,
      "id": "b81aba9f",
      "metadata": {
        "id": "b81aba9f"
      },
      "outputs": [],
      "source": [
        "# Count occurence per word using reducebykey()\n",
        "rdd_reduce1 = rdd_pair1.reduceByKey(lambda x,y: x+y)\n",
        "%time rdd_reduce1.collect()"
      ]
    },
    {
      "cell_type": "code",
      "execution_count": null,
      "id": "066d1f0e",
      "metadata": {
        "id": "066d1f0e"
      },
      "outputs": [],
      "source": []
    },
    {
      "cell_type": "markdown",
      "id": "e9d4d35d",
      "metadata": {
        "id": "e9d4d35d"
      },
      "source": [
        "# for dataframe use spark.sql.shuffle.partitions"
      ]
    },
    {
      "cell_type": "code",
      "execution_count": null,
      "id": "0915e3bf",
      "metadata": {
        "id": "0915e3bf"
      },
      "outputs": [],
      "source": [
        "#creating a sparksession object and providing appName \n",
        "spark1=SparkSession.builder.appName(\"optimization1\").getOrCreate()"
      ]
    },
    {
      "cell_type": "code",
      "execution_count": null,
      "id": "f405ae8d",
      "metadata": {
        "id": "f405ae8d"
      },
      "outputs": [],
      "source": [
        "spark1.conf.set(\"spark.sql.shuffle.partitions\",50)"
      ]
    },
    {
      "cell_type": "code",
      "execution_count": null,
      "id": "4c74b7f7",
      "metadata": {
        "id": "4c74b7f7"
      },
      "outputs": [],
      "source": [
        "#To create dataframe form External datasets\n",
        "AirlineDF5 = spark1.read.option(\"header\", \"true\").csv(\"/Users/krishnapratap/Desktop/partation/data/*\")"
      ]
    },
    {
      "cell_type": "code",
      "execution_count": null,
      "id": "79c5cae8",
      "metadata": {
        "id": "79c5cae8"
      },
      "outputs": [],
      "source": [
        "# calculate total rows in dataframe\n",
        "%time AirlineDF5.select(\"UniqueCarrier\").groupby(\"UniqueCarrier\").count().show()"
      ]
    },
    {
      "cell_type": "code",
      "execution_count": null,
      "id": "f08c6d50",
      "metadata": {
        "id": "f08c6d50"
      },
      "outputs": [],
      "source": []
    }
  ],
  "metadata": {
    "kernelspec": {
      "display_name": "Python 3 (ipykernel)",
      "language": "python",
      "name": "python3"
    },
    "language_info": {
      "codemirror_mode": {
        "name": "ipython",
        "version": 3
      },
      "file_extension": ".py",
      "mimetype": "text/x-python",
      "name": "python",
      "nbconvert_exporter": "python",
      "pygments_lexer": "ipython3",
      "version": "3.9.7"
    },
    "colab": {
      "provenance": [],
      "include_colab_link": true
    }
  },
  "nbformat": 4,
  "nbformat_minor": 5
}